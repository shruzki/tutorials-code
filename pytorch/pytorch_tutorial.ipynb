{
  "nbformat": 4,
  "nbformat_minor": 0,
  "metadata": {
    "colab": {
      "name": "pytorch-tutorial.ipynb",
      "provenance": [],
      "collapsed_sections": []
    },
    "kernelspec": {
      "name": "python3",
      "display_name": "Python 3"
    },
    "language_info": {
      "name": "python"
    }
  },
  "cells": [
    {
      "cell_type": "code",
      "execution_count": null,
      "metadata": {
        "id": "MF1f4YQGzw72"
      },
      "outputs": [],
      "source": [
        "import torch"
      ]
    },
    {
      "cell_type": "code",
      "source": [
        "x = torch.rand(3)"
      ],
      "metadata": {
        "id": "gUo3O7PI0xC0"
      },
      "execution_count": null,
      "outputs": []
    },
    {
      "cell_type": "code",
      "source": [
        "print(x)"
      ],
      "metadata": {
        "colab": {
          "base_uri": "https://localhost:8080/"
        },
        "id": "s99zG8hd0ydb",
        "outputId": "39c1e4d3-a22b-4bf8-f0b6-7bdbedc2016d"
      },
      "execution_count": null,
      "outputs": [
        {
          "output_type": "stream",
          "name": "stdout",
          "text": [
            "tensor([0.2938, 0.3115, 0.2067])\n"
          ]
        }
      ]
    },
    {
      "cell_type": "code",
      "source": [
        "torch.cuda.is_available()"
      ],
      "metadata": {
        "colab": {
          "base_uri": "https://localhost:8080/"
        },
        "id": "Kg3gY7Fe02T7",
        "outputId": "27b753e1-543f-4550-b9c2-3e4c6b3de1dc"
      },
      "execution_count": null,
      "outputs": [
        {
          "output_type": "execute_result",
          "data": {
            "text/plain": [
              "False"
            ]
          },
          "metadata": {},
          "execution_count": 4
        }
      ]
    },
    {
      "cell_type": "markdown",
      "source": [
        "In Numpy, we deal with vectors and arrays\n",
        "In PyTorch, everything is a tensor. Tensor can have 1, 2, 3 or mode dimensions.\n",
        "Let's create an empty tensor."
      ],
      "metadata": {
        "id": "VGwXy_aj1W9Y"
      }
    },
    {
      "cell_type": "code",
      "source": [
        "x = torch.empty(1)\n",
        "print(x)"
      ],
      "metadata": {
        "colab": {
          "base_uri": "https://localhost:8080/"
        },
        "id": "TScaPGuT07ei",
        "outputId": "6223f45e-8ca9-418c-c1ef-1530aec1bb3a"
      },
      "execution_count": null,
      "outputs": [
        {
          "output_type": "stream",
          "name": "stdout",
          "text": [
            "tensor([1.7845e-35])\n"
          ]
        }
      ]
    },
    {
      "cell_type": "code",
      "source": [
        "x = torch.empty(3)\n",
        "print(x)"
      ],
      "metadata": {
        "colab": {
          "base_uri": "https://localhost:8080/"
        },
        "id": "ap6gOWaR1LO4",
        "outputId": "14d3808d-4132-4535-81aa-38b467a8942b"
      },
      "execution_count": null,
      "outputs": [
        {
          "output_type": "stream",
          "name": "stdout",
          "text": [
            "tensor([1.7847e-35, 0.0000e+00, 1.8023e-35])\n"
          ]
        }
      ]
    },
    {
      "cell_type": "code",
      "source": [
        "x = torch.empty(2, 3)\n",
        "print(x)"
      ],
      "metadata": {
        "colab": {
          "base_uri": "https://localhost:8080/"
        },
        "id": "o8XCQPwo1tw9",
        "outputId": "69baa3cf-b3e4-4316-cb7b-fd1c59fb68d9"
      },
      "execution_count": null,
      "outputs": [
        {
          "output_type": "stream",
          "name": "stdout",
          "text": [
            "tensor([[1.7847e-35, 0.0000e+00, 1.8023e-35],\n",
            "        [0.0000e+00,        nan, 2.6908e+20]])\n"
          ]
        }
      ]
    },
    {
      "cell_type": "code",
      "source": [
        "x = torch.empty(2, 2, 3)\n",
        "print(x)"
      ],
      "metadata": {
        "colab": {
          "base_uri": "https://localhost:8080/"
        },
        "id": "TlnpX9mD1zd8",
        "outputId": "900f22a4-4484-468b-af89-11f29b25f23e"
      },
      "execution_count": null,
      "outputs": [
        {
          "output_type": "stream",
          "name": "stdout",
          "text": [
            "tensor([[[1.7847e-35, 0.0000e+00, 1.8023e-35],\n",
            "         [0.0000e+00,        nan, 2.6908e+20]],\n",
            "\n",
            "        [[5.6052e-45, 5.6052e-45, 0.0000e+00],\n",
            "         [       nan, 1.7846e-35, 0.0000e+00]]])\n"
          ]
        }
      ]
    },
    {
      "cell_type": "markdown",
      "source": [
        "We can create a tensor with random values"
      ],
      "metadata": {
        "id": "LNwc1PR816TE"
      }
    },
    {
      "cell_type": "code",
      "source": [
        "x = torch.rand(2, 2)\n",
        "print(x)"
      ],
      "metadata": {
        "colab": {
          "base_uri": "https://localhost:8080/"
        },
        "id": "M2usMGin10z8",
        "outputId": "509d5bed-a58c-49e2-caeb-47ef9dafbfe8"
      },
      "execution_count": null,
      "outputs": [
        {
          "output_type": "stream",
          "name": "stdout",
          "text": [
            "tensor([[0.9121, 0.4786],\n",
            "        [0.4962, 0.0754]])\n"
          ]
        }
      ]
    },
    {
      "cell_type": "code",
      "source": [
        "x = torch.zeros(2, 2)\n",
        "print(x)"
      ],
      "metadata": {
        "colab": {
          "base_uri": "https://localhost:8080/"
        },
        "id": "UvQvLuVf2BZ9",
        "outputId": "d6570b8c-7884-4fef-da28-630ba54a8b70"
      },
      "execution_count": null,
      "outputs": [
        {
          "output_type": "stream",
          "name": "stdout",
          "text": [
            "tensor([[0., 0.],\n",
            "        [0., 0.]])\n"
          ]
        }
      ]
    },
    {
      "cell_type": "code",
      "source": [
        "x = torch.ones(2, 2)\n",
        "print(x)"
      ],
      "metadata": {
        "colab": {
          "base_uri": "https://localhost:8080/"
        },
        "id": "6KZF5uid1GkB",
        "outputId": "f2484f94-0a02-4e78-e047-be34c210bffe"
      },
      "execution_count": null,
      "outputs": [
        {
          "output_type": "stream",
          "name": "stdout",
          "text": [
            "tensor([[1., 1.],\n",
            "        [1., 1.]])\n"
          ]
        }
      ]
    },
    {
      "cell_type": "code",
      "source": [
        "print(x.dtype)"
      ],
      "metadata": {
        "colab": {
          "base_uri": "https://localhost:8080/"
        },
        "id": "rHYozQuk5VQr",
        "outputId": "7a7f446b-fb61-4749-9926-2143d5cee195"
      },
      "execution_count": null,
      "outputs": [
        {
          "output_type": "stream",
          "name": "stdout",
          "text": [
            "torch.float32\n"
          ]
        }
      ]
    },
    {
      "cell_type": "code",
      "source": [
        "x = torch.ones(2,2, dtype=torch.int)\n",
        "print(x.dtype)\n",
        "print(type(x))"
      ],
      "metadata": {
        "colab": {
          "base_uri": "https://localhost:8080/"
        },
        "id": "GN32OnWn5Xop",
        "outputId": "5bf96ad3-eb35-4a99-fae1-fb57b6b3c369"
      },
      "execution_count": null,
      "outputs": [
        {
          "output_type": "stream",
          "name": "stdout",
          "text": [
            "torch.int32\n",
            "<class 'torch.Tensor'>\n"
          ]
        }
      ]
    },
    {
      "cell_type": "code",
      "source": [
        "x = torch.ones(2,2, dtype=torch.double)\n",
        "print(x.dtype)"
      ],
      "metadata": {
        "colab": {
          "base_uri": "https://localhost:8080/"
        },
        "id": "Y_uyCnkG5ldb",
        "outputId": "afaf2bda-aa58-4e44-fe05-faf68589334c"
      },
      "execution_count": null,
      "outputs": [
        {
          "output_type": "stream",
          "name": "stdout",
          "text": [
            "torch.float64\n"
          ]
        }
      ]
    },
    {
      "cell_type": "code",
      "source": [
        "x = torch.ones(2,2, dtype=torch.float16)\n",
        "print(x.dtype)"
      ],
      "metadata": {
        "colab": {
          "base_uri": "https://localhost:8080/"
        },
        "id": "Ldz7NRwI5ovO",
        "outputId": "084da047-b3e8-44c9-9862-a41c1b2a7104"
      },
      "execution_count": null,
      "outputs": [
        {
          "output_type": "stream",
          "name": "stdout",
          "text": [
            "torch.float16\n"
          ]
        }
      ]
    },
    {
      "cell_type": "code",
      "source": [
        "print(x.size())"
      ],
      "metadata": {
        "colab": {
          "base_uri": "https://localhost:8080/"
        },
        "id": "awwSJmJ-5qli",
        "outputId": "3145ed5d-1c27-4c99-f3c2-17023ad2f8cb"
      },
      "execution_count": null,
      "outputs": [
        {
          "output_type": "stream",
          "name": "stdout",
          "text": [
            "torch.Size([2, 2])\n"
          ]
        }
      ]
    },
    {
      "cell_type": "markdown",
      "source": [
        "We can also construct tensor from data"
      ],
      "metadata": {
        "id": "AZ_z_Vuv5wl9"
      }
    },
    {
      "cell_type": "code",
      "source": [
        "x = torch.tensor([2.5, 0.1])\n",
        "print(x)"
      ],
      "metadata": {
        "colab": {
          "base_uri": "https://localhost:8080/"
        },
        "id": "jEu4XVD45zR7",
        "outputId": "ffb9826f-9118-4966-fd47-c43c09915b45"
      },
      "execution_count": null,
      "outputs": [
        {
          "output_type": "stream",
          "name": "stdout",
          "text": [
            "tensor([2.5000, 0.1000])\n"
          ]
        }
      ]
    },
    {
      "cell_type": "code",
      "source": [
        "x = torch.rand(2,2)\n",
        "y = torch.rand(2,2)\n",
        "print(x)\n",
        "print(y)"
      ],
      "metadata": {
        "colab": {
          "base_uri": "https://localhost:8080/"
        },
        "id": "wN7pwLv056hL",
        "outputId": "80332950-1536-47ec-9a1d-0dc2b7c856f8"
      },
      "execution_count": null,
      "outputs": [
        {
          "output_type": "stream",
          "name": "stdout",
          "text": [
            "tensor([[0.3453, 0.9870],\n",
            "        [0.2399, 0.9832]])\n",
            "tensor([[0.9685, 0.0851],\n",
            "        [0.7853, 0.3530]])\n"
          ]
        }
      ]
    },
    {
      "cell_type": "code",
      "source": [
        "z = x + y\n",
        "print(z)"
      ],
      "metadata": {
        "colab": {
          "base_uri": "https://localhost:8080/"
        },
        "id": "HLXH6iUV5_VL",
        "outputId": "6402b49b-5ae5-4dd9-8a9d-425de5aebc04"
      },
      "execution_count": null,
      "outputs": [
        {
          "output_type": "stream",
          "name": "stdout",
          "text": [
            "tensor([[1.3138, 1.0720],\n",
            "        [1.0252, 1.3362]])\n"
          ]
        }
      ]
    },
    {
      "cell_type": "code",
      "source": [
        "z = torch.add(x,y)\n",
        "print(z)"
      ],
      "metadata": {
        "colab": {
          "base_uri": "https://localhost:8080/"
        },
        "id": "N5dovVR96Ex_",
        "outputId": "7cc82292-b0c4-4818-d67b-f5da31f12974"
      },
      "execution_count": null,
      "outputs": [
        {
          "output_type": "stream",
          "name": "stdout",
          "text": [
            "tensor([[1.3138, 1.0720],\n",
            "        [1.0252, 1.3362]])\n"
          ]
        }
      ]
    },
    {
      "cell_type": "code",
      "source": [
        "print(x)\n",
        "print(y)\n",
        "y.add_(x)\n",
        "print(y)"
      ],
      "metadata": {
        "colab": {
          "base_uri": "https://localhost:8080/"
        },
        "id": "AgWWnJ4B6Jtx",
        "outputId": "0b903079-293f-4a16-c15d-97ff31e25d2b"
      },
      "execution_count": null,
      "outputs": [
        {
          "output_type": "stream",
          "name": "stdout",
          "text": [
            "tensor([[0.3453, 0.9870],\n",
            "        [0.2399, 0.9832]])\n",
            "tensor([[0.9685, 0.0851],\n",
            "        [0.7853, 0.3530]])\n",
            "tensor([[1.3138, 1.0720],\n",
            "        [1.0252, 1.3362]])\n"
          ]
        }
      ]
    },
    {
      "cell_type": "code",
      "source": [
        "print(x)\n",
        "print(y)\n",
        "z = x - y\n",
        "print(z)"
      ],
      "metadata": {
        "colab": {
          "base_uri": "https://localhost:8080/"
        },
        "id": "OOLxpjjZ6S46",
        "outputId": "4352395f-70d6-416b-f09d-11a9b7442078"
      },
      "execution_count": null,
      "outputs": [
        {
          "output_type": "stream",
          "name": "stdout",
          "text": [
            "tensor([[0.3453, 0.9870],\n",
            "        [0.2399, 0.9832]])\n",
            "tensor([[1.3138, 1.0720],\n",
            "        [1.0252, 1.3362]])\n",
            "tensor([[-0.9685, -0.0851],\n",
            "        [-0.7853, -0.3530]])\n"
          ]
        }
      ]
    },
    {
      "cell_type": "code",
      "source": [
        "z = torch.sub(x,y)\n",
        "print(z)"
      ],
      "metadata": {
        "colab": {
          "base_uri": "https://localhost:8080/"
        },
        "id": "BBus6YW06mqH",
        "outputId": "e127b338-7279-4447-a749-8c8ab20542d9"
      },
      "execution_count": null,
      "outputs": [
        {
          "output_type": "stream",
          "name": "stdout",
          "text": [
            "tensor([[-0.9685, -0.0851],\n",
            "        [-0.7853, -0.3530]])\n"
          ]
        }
      ]
    },
    {
      "cell_type": "code",
      "source": [
        "z = x * y\n",
        "print(z)"
      ],
      "metadata": {
        "colab": {
          "base_uri": "https://localhost:8080/"
        },
        "id": "FawmEqjV6qKp",
        "outputId": "8d6d80dd-04f2-4f3d-bc70-f438de191d9f"
      },
      "execution_count": null,
      "outputs": [
        {
          "output_type": "stream",
          "name": "stdout",
          "text": [
            "tensor([[0.4536, 1.0581],\n",
            "        [0.2459, 1.3137]])\n"
          ]
        }
      ]
    },
    {
      "cell_type": "code",
      "source": [
        "z = torch.mul(x, y)\n",
        "print(z)"
      ],
      "metadata": {
        "colab": {
          "base_uri": "https://localhost:8080/"
        },
        "id": "hzPOQ-WT6uR_",
        "outputId": "07790c45-b56d-4983-d6f3-73243be00929"
      },
      "execution_count": null,
      "outputs": [
        {
          "output_type": "stream",
          "name": "stdout",
          "text": [
            "tensor([[0.4536, 1.0581],\n",
            "        [0.2459, 1.3137]])\n"
          ]
        }
      ]
    },
    {
      "cell_type": "markdown",
      "source": [
        "inplace function can be performed by adding underscore (_)\n",
        "\n",
        "y.mul_(x) is equivalent to y=y*x"
      ],
      "metadata": {
        "id": "4L95xCn27JGv"
      }
    },
    {
      "cell_type": "code",
      "source": [
        "print(x)\n",
        "print(y)\n",
        "y.mul_(x)\n",
        "print(y)"
      ],
      "metadata": {
        "colab": {
          "base_uri": "https://localhost:8080/"
        },
        "id": "FWZzGT7A6y2D",
        "outputId": "6e5912bd-55ea-42f4-af86-993003e5a732"
      },
      "execution_count": null,
      "outputs": [
        {
          "output_type": "stream",
          "name": "stdout",
          "text": [
            "tensor([[0.3453, 0.9870],\n",
            "        [0.2399, 0.9832]])\n",
            "tensor([[1.3138, 1.0720],\n",
            "        [1.0252, 1.3362]])\n",
            "tensor([[0.4536, 1.0581],\n",
            "        [0.2459, 1.3137]])\n"
          ]
        }
      ]
    },
    {
      "cell_type": "code",
      "source": [
        "z = x / y\n",
        "print(z)"
      ],
      "metadata": {
        "colab": {
          "base_uri": "https://localhost:8080/"
        },
        "id": "WFb0Raey65VC",
        "outputId": "17d2fb3b-fcf8-413f-f523-dc442e95cf56"
      },
      "execution_count": null,
      "outputs": [
        {
          "output_type": "stream",
          "name": "stdout",
          "text": [
            "tensor([[0.7612, 0.9328],\n",
            "        [0.9754, 0.7484]])\n"
          ]
        }
      ]
    },
    {
      "cell_type": "code",
      "source": [
        "z = torch.div(x, y)\n",
        "print(z)"
      ],
      "metadata": {
        "colab": {
          "base_uri": "https://localhost:8080/"
        },
        "id": "I_58rajB7ErC",
        "outputId": "239bb19b-60ae-49ca-beb2-9868a79eb327"
      },
      "execution_count": null,
      "outputs": [
        {
          "output_type": "stream",
          "name": "stdout",
          "text": [
            "tensor([[0.7612, 0.9328],\n",
            "        [0.9754, 0.7484]])\n"
          ]
        }
      ]
    },
    {
      "cell_type": "code",
      "source": [
        "x = torch.rand(5, 3)\n",
        "print(x)\n",
        "print(x[:, 0]) # column number 0 but all rows\n",
        "print(x[1, :]) # row number 1 but all columns\n",
        "print(x[1, 1]) # element at position 1,1 (as a tensor)\n",
        "print(x[1, 1].item()) # this works when we have only one item in tensor. it returns the one item"
      ],
      "metadata": {
        "colab": {
          "base_uri": "https://localhost:8080/"
        },
        "id": "yjyeoSVI7WF9",
        "outputId": "46a3b5dd-0a7e-40f0-d757-eaec80f73769"
      },
      "execution_count": null,
      "outputs": [
        {
          "output_type": "stream",
          "name": "stdout",
          "text": [
            "tensor([[0.0816, 0.8654, 0.6682],\n",
            "        [0.4453, 0.7560, 0.7394],\n",
            "        [0.6950, 0.8495, 0.7475],\n",
            "        [0.6293, 0.7707, 0.0286],\n",
            "        [0.6705, 0.8819, 0.9071]])\n",
            "tensor([0.0816, 0.4453, 0.6950, 0.6293, 0.6705])\n",
            "tensor([0.4453, 0.7560, 0.7394])\n",
            "tensor(0.7560)\n",
            "0.7560021281242371\n"
          ]
        }
      ]
    },
    {
      "cell_type": "markdown",
      "source": [
        "Reshaping the tensor"
      ],
      "metadata": {
        "id": "Y32TejYJ8FML"
      }
    },
    {
      "cell_type": "code",
      "source": [
        "x = torch.rand(4,4)\n",
        "print(x)\n",
        "y = x.view(16)\n",
        "print(y)"
      ],
      "metadata": {
        "colab": {
          "base_uri": "https://localhost:8080/"
        },
        "id": "uxux6XQH7lwd",
        "outputId": "ceb7cdd5-2cf3-4210-8872-7ecb64e65010"
      },
      "execution_count": null,
      "outputs": [
        {
          "output_type": "stream",
          "name": "stdout",
          "text": [
            "tensor([[0.8642, 0.8254, 0.6327, 0.9518],\n",
            "        [0.8335, 0.4275, 0.4930, 0.0255],\n",
            "        [0.3790, 0.3646, 0.4888, 0.7886],\n",
            "        [0.5042, 0.2931, 0.0529, 0.7575]])\n",
            "tensor([0.8642, 0.8254, 0.6327, 0.9518, 0.8335, 0.4275, 0.4930, 0.0255, 0.3790,\n",
            "        0.3646, 0.4888, 0.7886, 0.5042, 0.2931, 0.0529, 0.7575])\n"
          ]
        }
      ]
    },
    {
      "cell_type": "code",
      "source": [
        "y = x.view(-1, 8) # if you dont want to mention size in any of the dimensions (pytorch will automatically determine from the other dimension)\n",
        "print(y)\n",
        "print(y.size())"
      ],
      "metadata": {
        "colab": {
          "base_uri": "https://localhost:8080/"
        },
        "id": "cEgnzuzHAVhm",
        "outputId": "58838d0d-237a-447c-8e27-cf71fcebcd53"
      },
      "execution_count": null,
      "outputs": [
        {
          "output_type": "stream",
          "name": "stdout",
          "text": [
            "tensor([[0.8642, 0.8254, 0.6327, 0.9518, 0.8335, 0.4275, 0.4930, 0.0255],\n",
            "        [0.3790, 0.3646, 0.4888, 0.7886, 0.5042, 0.2931, 0.0529, 0.7575]])\n",
            "torch.Size([2, 8])\n"
          ]
        }
      ]
    },
    {
      "cell_type": "markdown",
      "source": [
        "Convert Numpy to torch tensor and vice versa"
      ],
      "metadata": {
        "id": "_hcYbB_PAykd"
      }
    },
    {
      "cell_type": "code",
      "source": [
        "import numpy as np"
      ],
      "metadata": {
        "id": "2XPhr9lFAa-e"
      },
      "execution_count": null,
      "outputs": []
    },
    {
      "cell_type": "code",
      "source": [
        "a = torch.ones(5)\n",
        "print(a)"
      ],
      "metadata": {
        "colab": {
          "base_uri": "https://localhost:8080/"
        },
        "id": "epo4RtJIA6Zf",
        "outputId": "8101266e-57c7-44ad-9e56-2f184fa1696b"
      },
      "execution_count": null,
      "outputs": [
        {
          "output_type": "stream",
          "name": "stdout",
          "text": [
            "tensor([1., 1., 1., 1., 1.])\n"
          ]
        }
      ]
    },
    {
      "cell_type": "markdown",
      "source": [
        "To have a numpy array of the above tensor"
      ],
      "metadata": {
        "id": "LXp_bfVFBtnq"
      }
    },
    {
      "cell_type": "code",
      "source": [
        "b = a.numpy()\n",
        "print(b)\n",
        "print(type(b))"
      ],
      "metadata": {
        "colab": {
          "base_uri": "https://localhost:8080/"
        },
        "id": "FHictMvMBrNm",
        "outputId": "f920eb19-6016-43f2-faee-378de9e168ff"
      },
      "execution_count": null,
      "outputs": [
        {
          "output_type": "stream",
          "name": "stdout",
          "text": [
            "[1. 1. 1. 1. 1.]\n",
            "<class 'numpy.ndarray'>\n"
          ]
        }
      ]
    },
    {
      "cell_type": "markdown",
      "source": [
        "If tensor is on **CPU, and not on GPU**, then both the  objects will share the memory location.\n",
        "\n",
        "If we change one, we also change other"
      ],
      "metadata": {
        "id": "ydm4KlHBB2Rx"
      }
    },
    {
      "cell_type": "code",
      "source": [
        "print(a)\n",
        "print(b)\n",
        "a.add_(1)\n",
        "print(a)\n",
        "print(b)"
      ],
      "metadata": {
        "colab": {
          "base_uri": "https://localhost:8080/"
        },
        "id": "73xgYmwWByt1",
        "outputId": "312dd10c-a0d9-45b2-cf98-f261b3e48173"
      },
      "execution_count": null,
      "outputs": [
        {
          "output_type": "stream",
          "name": "stdout",
          "text": [
            "tensor([1., 1., 1., 1., 1.])\n",
            "[1. 1. 1. 1. 1.]\n",
            "tensor([2., 2., 2., 2., 2.])\n",
            "[2. 2. 2. 2. 2.]\n"
          ]
        }
      ]
    },
    {
      "cell_type": "markdown",
      "source": [
        "Numpy to a torch.tensor"
      ],
      "metadata": {
        "id": "Ek-TvUrMCR4y"
      }
    },
    {
      "cell_type": "code",
      "source": [
        "a = np.ones(5)\n",
        "print(a)\n",
        "b = torch.from_numpy(a)\n",
        "print(b)"
      ],
      "metadata": {
        "colab": {
          "base_uri": "https://localhost:8080/"
        },
        "id": "h5wnP0EdCLKY",
        "outputId": "9a635e6b-8058-46a0-a2b2-2691f55fabe9"
      },
      "execution_count": null,
      "outputs": [
        {
          "output_type": "stream",
          "name": "stdout",
          "text": [
            "[1. 1. 1. 1. 1.]\n",
            "tensor([1., 1., 1., 1., 1.], dtype=torch.float64)\n"
          ]
        }
      ]
    },
    {
      "cell_type": "markdown",
      "source": [
        "Be careful about modifying one of the objects.\n",
        "\n",
        "Other may get modified too. This happens if the tensor is on G?C?PU."
      ],
      "metadata": {
        "id": "sY8BgjteC2jo"
      }
    },
    {
      "cell_type": "code",
      "source": [
        "a += 1\n",
        "print(a)\n",
        "print(b)"
      ],
      "metadata": {
        "colab": {
          "base_uri": "https://localhost:8080/"
        },
        "id": "-xCrwTmyCdYq",
        "outputId": "bd1c9e1e-f518-4aa1-a62d-055333c5eed6"
      },
      "execution_count": null,
      "outputs": [
        {
          "output_type": "stream",
          "name": "stdout",
          "text": [
            "[2. 2. 2. 2. 2.]\n",
            "tensor([2., 2., 2., 2., 2.], dtype=torch.float64)\n"
          ]
        }
      ]
    },
    {
      "cell_type": "markdown",
      "source": [
        "You can do operations on GPU using cuda toolkit"
      ],
      "metadata": {
        "id": "vy7BmQhUDaV9"
      }
    },
    {
      "cell_type": "code",
      "source": [
        "if torch.cuda.is_available():\n",
        "  device = torch.device(\"cuda\")\n",
        "  x = torch.ones(5, device=device) # this creates a tensor and put it on gpu\n",
        "  y = torch.ones(5) # or the same can be achieved by creating first and moving it to GPU later\n",
        "  y = y.to(device)\n",
        "  z = x + y\n",
        "  # z.numpy() # this returns an error since numpy can handle only CPU tensors. cant convert GPU tensor to numpy\n",
        "  # moving it back to CPU\n",
        "  z = z.to(\"cpu\")"
      ],
      "metadata": {
        "id": "f_e2Jz4BDXbW"
      },
      "execution_count": null,
      "outputs": []
    },
    {
      "cell_type": "markdown",
      "source": [
        "A lot of times, when a tensor is created, there is an argument - requires_grad (False by default)\n",
        "\n",
        "We can pass in the argument as True if we want to tell pytorch that we want it to calculate the the gradients for this tensor later in your optimization"
      ],
      "metadata": {
        "id": "uf_qFN8BIenp"
      }
    },
    {
      "cell_type": "markdown",
      "source": [
        "# 3 Autograd"
      ],
      "metadata": {
        "id": "teiX0Tr2PReY"
      }
    },
    {
      "cell_type": "markdown",
      "source": [
        "Autograd is a package that helps calculate gradients.\n",
        "\n",
        "Gradients are essential for our model optimization."
      ],
      "metadata": {
        "id": "Ac4Quel8PYfy"
      }
    },
    {
      "cell_type": "code",
      "source": [
        " x = torch.randn(3)\n",
        " print(x)"
      ],
      "metadata": {
        "colab": {
          "base_uri": "https://localhost:8080/"
        },
        "id": "vMAJTBknD8rj",
        "outputId": "6ab93a81-759f-4b60-8b17-bc9d8cd2bff3"
      },
      "execution_count": null,
      "outputs": [
        {
          "output_type": "stream",
          "name": "stdout",
          "text": [
            "tensor([ 1.0111, -0.2356,  0.2937])\n"
          ]
        }
      ]
    },
    {
      "cell_type": "code",
      "source": [
        " x = torch.randn(3, requires_grad=True)\n",
        " print(x)"
      ],
      "metadata": {
        "colab": {
          "base_uri": "https://localhost:8080/"
        },
        "id": "V_ornJOrVECg",
        "outputId": "4e241913-0763-4b37-bb3e-5174962459cc"
      },
      "execution_count": null,
      "outputs": [
        {
          "output_type": "stream",
          "name": "stdout",
          "text": [
            "tensor([-1.0970, -0.1130,  0.4357], requires_grad=True)\n"
          ]
        }
      ]
    },
    {
      "cell_type": "markdown",
      "source": [
        "Whenever we do operations to this tensor, pytorch will create a computational graph for us."
      ],
      "metadata": {
        "id": "kGDQM0BHVRqb"
      }
    },
    {
      "cell_type": "code",
      "source": [
        "y = x + 2 "
      ],
      "metadata": {
        "id": "HmVgzb_5VNXc"
      },
      "execution_count": null,
      "outputs": []
    },
    {
      "cell_type": "markdown",
      "source": [
        "![image.png](data:image/png;base64,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)"
      ],
      "metadata": {
        "id": "VjJxaH9zVtsn"
      }
    },
    {
      "cell_type": "code",
      "source": [
        "print(y)"
      ],
      "metadata": {
        "colab": {
          "base_uri": "https://localhost:8080/"
        },
        "id": "qkaLLQdLVb6A",
        "outputId": "ef834335-babb-4293-de1c-d22e9a841d7e"
      },
      "execution_count": null,
      "outputs": [
        {
          "output_type": "stream",
          "name": "stdout",
          "text": [
            "tensor([0.9030, 1.8870, 2.4357], grad_fn=<AddBackward0>)\n"
          ]
        }
      ]
    },
    {
      "cell_type": "code",
      "source": [
        "z = y*y*2\n",
        "print(z)"
      ],
      "metadata": {
        "colab": {
          "base_uri": "https://localhost:8080/"
        },
        "id": "xr6tZ6ooV0J3",
        "outputId": "1668d02e-54f7-4f51-ef28-63178ff8c513"
      },
      "execution_count": null,
      "outputs": [
        {
          "output_type": "stream",
          "name": "stdout",
          "text": [
            "tensor([ 1.6309,  7.1217, 11.8652], grad_fn=<MulBackward0>)\n"
          ]
        }
      ]
    },
    {
      "cell_type": "code",
      "source": [
        "z = z.mean()\n",
        "print(z)"
      ],
      "metadata": {
        "colab": {
          "base_uri": "https://localhost:8080/"
        },
        "id": "fW59z0gWV-c5",
        "outputId": "2a9b0d9f-95b4-4647-9a8e-42bc87956ce5"
      },
      "execution_count": null,
      "outputs": [
        {
          "output_type": "stream",
          "name": "stdout",
          "text": [
            "tensor(6.8726, grad_fn=<MeanBackward0>)\n"
          ]
        }
      ]
    },
    {
      "cell_type": "markdown",
      "source": [
        "To calculate gradients, we need to do z.backward()\n",
        "\n",
        "This calculates gradient of z wrt x"
      ],
      "metadata": {
        "id": "vYTJ7fQAWI4p"
      }
    },
    {
      "cell_type": "code",
      "source": [
        "z.backward() # dz/dx\n",
        "print(x.grad)"
      ],
      "metadata": {
        "colab": {
          "base_uri": "https://localhost:8080/"
        },
        "id": "jrapyp2NWCe1",
        "outputId": "83f30767-53a8-4f80-d6d2-1376b2fd862e"
      },
      "execution_count": null,
      "outputs": [
        {
          "output_type": "stream",
          "name": "stdout",
          "text": [
            "tensor([1.2040, 2.5160, 3.2476])\n"
          ]
        }
      ]
    },
    {
      "cell_type": "markdown",
      "source": [
        "The above function produces error if we do not pass requires_grad=True when initialising x"
      ],
      "metadata": {
        "id": "32bQRcj9We-T"
      }
    },
    {
      "cell_type": "markdown",
      "source": [
        "This creates a vector jacobian product. we have jacobian matrix with partial derivatives, which is multiplied with a gradient vector and we get the final gradients we are interested in.\n",
        "\n",
        "![image.png](data:image/png;base64,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)"
      ],
      "metadata": {
        "id": "tujYXcLyXDzZ"
      }
    },
    {
      "cell_type": "markdown",
      "source": [
        "here, we must multiply it with a vector.\n",
        "\n",
        "Since z here was a scalar (mean), we don't have to pass in an argument for backward function.\n",
        "\n",
        "If we didn't apply mean operation, z has more than one value in it. Size will be 1x3. Applying backward function on this produces an error"
      ],
      "metadata": {
        "id": "C6y1OaHResMU"
      }
    },
    {
      "cell_type": "code",
      "source": [
        "z = y*y*2\n",
        "print(z)\n",
        "\n",
        "z.backward()"
      ],
      "metadata": {
        "colab": {
          "base_uri": "https://localhost:8080/",
          "height": 390
        },
        "id": "I8K46IfuWVKS",
        "outputId": "786d474b-d668-4106-c80c-719d49039dc9"
      },
      "execution_count": null,
      "outputs": [
        {
          "output_type": "stream",
          "name": "stdout",
          "text": [
            "tensor([ 1.6309,  7.1217, 11.8652], grad_fn=<MulBackward0>)\n"
          ]
        },
        {
          "output_type": "error",
          "ename": "RuntimeError",
          "evalue": "ignored",
          "traceback": [
            "\u001b[0;31m---------------------------------------------------------------------------\u001b[0m",
            "\u001b[0;31mRuntimeError\u001b[0m                              Traceback (most recent call last)",
            "\u001b[0;32m<ipython-input-46-8220ced7a7ab>\u001b[0m in \u001b[0;36m<module>\u001b[0;34m()\u001b[0m\n\u001b[1;32m      2\u001b[0m \u001b[0mprint\u001b[0m\u001b[0;34m(\u001b[0m\u001b[0mz\u001b[0m\u001b[0;34m)\u001b[0m\u001b[0;34m\u001b[0m\u001b[0;34m\u001b[0m\u001b[0m\n\u001b[1;32m      3\u001b[0m \u001b[0;34m\u001b[0m\u001b[0m\n\u001b[0;32m----> 4\u001b[0;31m \u001b[0mz\u001b[0m\u001b[0;34m.\u001b[0m\u001b[0mbackward\u001b[0m\u001b[0;34m(\u001b[0m\u001b[0;34m)\u001b[0m\u001b[0;34m\u001b[0m\u001b[0;34m\u001b[0m\u001b[0m\n\u001b[0m",
            "\u001b[0;32m/usr/local/lib/python3.7/dist-packages/torch/_tensor.py\u001b[0m in \u001b[0;36mbackward\u001b[0;34m(self, gradient, retain_graph, create_graph, inputs)\u001b[0m\n\u001b[1;32m    361\u001b[0m                 \u001b[0mcreate_graph\u001b[0m\u001b[0;34m=\u001b[0m\u001b[0mcreate_graph\u001b[0m\u001b[0;34m,\u001b[0m\u001b[0;34m\u001b[0m\u001b[0;34m\u001b[0m\u001b[0m\n\u001b[1;32m    362\u001b[0m                 inputs=inputs)\n\u001b[0;32m--> 363\u001b[0;31m         \u001b[0mtorch\u001b[0m\u001b[0;34m.\u001b[0m\u001b[0mautograd\u001b[0m\u001b[0;34m.\u001b[0m\u001b[0mbackward\u001b[0m\u001b[0;34m(\u001b[0m\u001b[0mself\u001b[0m\u001b[0;34m,\u001b[0m \u001b[0mgradient\u001b[0m\u001b[0;34m,\u001b[0m \u001b[0mretain_graph\u001b[0m\u001b[0;34m,\u001b[0m \u001b[0mcreate_graph\u001b[0m\u001b[0;34m,\u001b[0m \u001b[0minputs\u001b[0m\u001b[0;34m=\u001b[0m\u001b[0minputs\u001b[0m\u001b[0;34m)\u001b[0m\u001b[0;34m\u001b[0m\u001b[0;34m\u001b[0m\u001b[0m\n\u001b[0m\u001b[1;32m    364\u001b[0m \u001b[0;34m\u001b[0m\u001b[0m\n\u001b[1;32m    365\u001b[0m     \u001b[0;32mdef\u001b[0m \u001b[0mregister_hook\u001b[0m\u001b[0;34m(\u001b[0m\u001b[0mself\u001b[0m\u001b[0;34m,\u001b[0m \u001b[0mhook\u001b[0m\u001b[0;34m)\u001b[0m\u001b[0;34m:\u001b[0m\u001b[0;34m\u001b[0m\u001b[0;34m\u001b[0m\u001b[0m\n",
            "\u001b[0;32m/usr/local/lib/python3.7/dist-packages/torch/autograd/__init__.py\u001b[0m in \u001b[0;36mbackward\u001b[0;34m(tensors, grad_tensors, retain_graph, create_graph, grad_variables, inputs)\u001b[0m\n\u001b[1;32m    164\u001b[0m \u001b[0;34m\u001b[0m\u001b[0m\n\u001b[1;32m    165\u001b[0m     \u001b[0mgrad_tensors_\u001b[0m \u001b[0;34m=\u001b[0m \u001b[0m_tensor_or_tensors_to_tuple\u001b[0m\u001b[0;34m(\u001b[0m\u001b[0mgrad_tensors\u001b[0m\u001b[0;34m,\u001b[0m \u001b[0mlen\u001b[0m\u001b[0;34m(\u001b[0m\u001b[0mtensors\u001b[0m\u001b[0;34m)\u001b[0m\u001b[0;34m)\u001b[0m\u001b[0;34m\u001b[0m\u001b[0;34m\u001b[0m\u001b[0m\n\u001b[0;32m--> 166\u001b[0;31m     \u001b[0mgrad_tensors_\u001b[0m \u001b[0;34m=\u001b[0m \u001b[0m_make_grads\u001b[0m\u001b[0;34m(\u001b[0m\u001b[0mtensors\u001b[0m\u001b[0;34m,\u001b[0m \u001b[0mgrad_tensors_\u001b[0m\u001b[0;34m,\u001b[0m \u001b[0mis_grads_batched\u001b[0m\u001b[0;34m=\u001b[0m\u001b[0;32mFalse\u001b[0m\u001b[0;34m)\u001b[0m\u001b[0;34m\u001b[0m\u001b[0;34m\u001b[0m\u001b[0m\n\u001b[0m\u001b[1;32m    167\u001b[0m     \u001b[0;32mif\u001b[0m \u001b[0mretain_graph\u001b[0m \u001b[0;32mis\u001b[0m \u001b[0;32mNone\u001b[0m\u001b[0;34m:\u001b[0m\u001b[0;34m\u001b[0m\u001b[0;34m\u001b[0m\u001b[0m\n\u001b[1;32m    168\u001b[0m         \u001b[0mretain_graph\u001b[0m \u001b[0;34m=\u001b[0m \u001b[0mcreate_graph\u001b[0m\u001b[0;34m\u001b[0m\u001b[0;34m\u001b[0m\u001b[0m\n",
            "\u001b[0;32m/usr/local/lib/python3.7/dist-packages/torch/autograd/__init__.py\u001b[0m in \u001b[0;36m_make_grads\u001b[0;34m(outputs, grads, is_grads_batched)\u001b[0m\n\u001b[1;32m     65\u001b[0m             \u001b[0;32mif\u001b[0m \u001b[0mout\u001b[0m\u001b[0;34m.\u001b[0m\u001b[0mrequires_grad\u001b[0m\u001b[0;34m:\u001b[0m\u001b[0;34m\u001b[0m\u001b[0;34m\u001b[0m\u001b[0m\n\u001b[1;32m     66\u001b[0m                 \u001b[0;32mif\u001b[0m \u001b[0mout\u001b[0m\u001b[0;34m.\u001b[0m\u001b[0mnumel\u001b[0m\u001b[0;34m(\u001b[0m\u001b[0;34m)\u001b[0m \u001b[0;34m!=\u001b[0m \u001b[0;36m1\u001b[0m\u001b[0;34m:\u001b[0m\u001b[0;34m\u001b[0m\u001b[0;34m\u001b[0m\u001b[0m\n\u001b[0;32m---> 67\u001b[0;31m                     \u001b[0;32mraise\u001b[0m \u001b[0mRuntimeError\u001b[0m\u001b[0;34m(\u001b[0m\u001b[0;34m\"grad can be implicitly created only for scalar outputs\"\u001b[0m\u001b[0;34m)\u001b[0m\u001b[0;34m\u001b[0m\u001b[0;34m\u001b[0m\u001b[0m\n\u001b[0m\u001b[1;32m     68\u001b[0m                 \u001b[0mnew_grads\u001b[0m\u001b[0;34m.\u001b[0m\u001b[0mappend\u001b[0m\u001b[0;34m(\u001b[0m\u001b[0mtorch\u001b[0m\u001b[0;34m.\u001b[0m\u001b[0mones_like\u001b[0m\u001b[0;34m(\u001b[0m\u001b[0mout\u001b[0m\u001b[0;34m,\u001b[0m \u001b[0mmemory_format\u001b[0m\u001b[0;34m=\u001b[0m\u001b[0mtorch\u001b[0m\u001b[0;34m.\u001b[0m\u001b[0mpreserve_format\u001b[0m\u001b[0;34m)\u001b[0m\u001b[0;34m)\u001b[0m\u001b[0;34m\u001b[0m\u001b[0;34m\u001b[0m\u001b[0m\n\u001b[1;32m     69\u001b[0m             \u001b[0;32melse\u001b[0m\u001b[0;34m:\u001b[0m\u001b[0;34m\u001b[0m\u001b[0;34m\u001b[0m\u001b[0m\n",
            "\u001b[0;31mRuntimeError\u001b[0m: grad can be implicitly created only for scalar outputs"
          ]
        }
      ]
    },
    {
      "cell_type": "markdown",
      "source": [
        "we have to give it the gradient argument. we have to create a vector of same size"
      ],
      "metadata": {
        "id": "b0-XT592bTmz"
      }
    },
    {
      "cell_type": "code",
      "source": [
        "v = torch.tensor([0.1, 1.0, 0.001], dtype=torch.float32)\n",
        "z.backward(v)\n",
        "print(x.grad)"
      ],
      "metadata": {
        "colab": {
          "base_uri": "https://localhost:8080/"
        },
        "id": "S8ynQVwWfh5J",
        "outputId": "a44973f1-88e0-4576-8795-85d0389d2670"
      },
      "execution_count": null,
      "outputs": [
        {
          "output_type": "stream",
          "name": "stdout",
          "text": [
            "tensor([ 1.5653, 10.0641,  3.2573])\n"
          ]
        }
      ]
    },
    {
      "cell_type": "markdown",
      "source": [
        "**Preventing pytorch from tracking the history and calculating grad_fn attribute.**\n",
        "\n",
        "Sometimes, during our training loop, when we want to update our weights, then this operation should not be part of gradient operation."
      ],
      "metadata": {
        "id": "A5d_rCTPbx41"
      }
    },
    {
      "cell_type": "code",
      "source": [
        "x = torch.randn(3, requires_grad=True)\n",
        "print(x)\n",
        "# x.requires_grad_(false) # 1st way\n",
        "# x.detach() # 2nd way\n",
        "# with torch.no_grad():\n"
      ],
      "metadata": {
        "colab": {
          "base_uri": "https://localhost:8080/"
        },
        "id": "7LH63jjrbkX0",
        "outputId": "3e8c222d-42ef-41d2-a901-59f3235dcc7a"
      },
      "execution_count": null,
      "outputs": [
        {
          "output_type": "stream",
          "name": "stdout",
          "text": [
            "tensor([-1.0976,  0.6898,  0.6984], requires_grad=True)\n"
          ]
        }
      ]
    },
    {
      "cell_type": "markdown",
      "source": [
        "Option 1"
      ],
      "metadata": {
        "id": "iPPyjPStc1BK"
      }
    },
    {
      "cell_type": "code",
      "source": [
        "x.requires_grad_(False)\n",
        "print(x)"
      ],
      "metadata": {
        "colab": {
          "base_uri": "https://localhost:8080/"
        },
        "id": "Aw7tjkG_cjhY",
        "outputId": "2f7d41d1-b550-4ceb-e06c-ddc56f1c99fe"
      },
      "execution_count": null,
      "outputs": [
        {
          "output_type": "stream",
          "name": "stdout",
          "text": [
            "tensor([-1.0976,  0.6898,  0.6984])\n"
          ]
        }
      ]
    },
    {
      "cell_type": "code",
      "source": [
        "x = torch.randn(3, requires_grad=True)\n",
        "print(x)"
      ],
      "metadata": {
        "colab": {
          "base_uri": "https://localhost:8080/"
        },
        "id": "yBdssqf2cog3",
        "outputId": "a88ccf48-464b-4750-ff93-0fa0a0d321aa"
      },
      "execution_count": null,
      "outputs": [
        {
          "output_type": "stream",
          "name": "stdout",
          "text": [
            "tensor([-0.1112,  0.7440, -1.1733], requires_grad=True)\n"
          ]
        }
      ]
    },
    {
      "cell_type": "markdown",
      "source": [
        "Option 2"
      ],
      "metadata": {
        "id": "osTkf293c3x9"
      }
    },
    {
      "cell_type": "code",
      "source": [
        "y = x.detach()\n",
        "print(y)"
      ],
      "metadata": {
        "colab": {
          "base_uri": "https://localhost:8080/"
        },
        "id": "zkPOM2LAcr6N",
        "outputId": "b2c0e099-4ad2-4713-d7a4-3bc9f42c16b8"
      },
      "execution_count": null,
      "outputs": [
        {
          "output_type": "stream",
          "name": "stdout",
          "text": [
            "tensor([-0.1112,  0.7440, -1.1733])\n"
          ]
        }
      ]
    },
    {
      "cell_type": "code",
      "source": [
        "x = torch.randn(3, requires_grad=True)\n",
        "print(x)"
      ],
      "metadata": {
        "colab": {
          "base_uri": "https://localhost:8080/"
        },
        "id": "whu7950Hc9K4",
        "outputId": "7016dc03-7e74-4cbe-cdb7-f8550fac83da"
      },
      "execution_count": null,
      "outputs": [
        {
          "output_type": "stream",
          "name": "stdout",
          "text": [
            "tensor([-0.1824,  0.7684, -1.4461], requires_grad=True)\n"
          ]
        }
      ]
    },
    {
      "cell_type": "markdown",
      "source": [
        "Option 3"
      ],
      "metadata": {
        "id": "AIdtM-OEc4vM"
      }
    },
    {
      "cell_type": "code",
      "source": [
        "with torch.no_grad():\n",
        "  y = x + 2\n",
        "  print(x)\n",
        "  print(y)\n",
        "\n",
        "y = x + 2\n",
        "print(x)\n",
        "print(y)"
      ],
      "metadata": {
        "colab": {
          "base_uri": "https://localhost:8080/"
        },
        "id": "qZ2fUeX6cuTY",
        "outputId": "df0f99da-2e0e-486c-b4af-d913535d4afc"
      },
      "execution_count": null,
      "outputs": [
        {
          "output_type": "stream",
          "name": "stdout",
          "text": [
            "tensor([-0.1824,  0.7684, -1.4461], requires_grad=True)\n",
            "tensor([1.8176, 2.7684, 0.5539])\n",
            "tensor([-0.1824,  0.7684, -1.4461], requires_grad=True)\n",
            "tensor([1.8176, 2.7684, 0.5539], grad_fn=<AddBackward0>)\n"
          ]
        }
      ]
    },
    {
      "cell_type": "markdown",
      "source": [
        "Whenever we call the backward function, the gradient for this tensor will be accummulated into the .grad attribute. so their values will be summed up."
      ],
      "metadata": {
        "id": "x_Ztq8XidRHv"
      }
    },
    {
      "cell_type": "code",
      "source": [
        "weights = torch.ones(4, requires_grad = True)"
      ],
      "metadata": {
        "id": "5xd_ZzDBdCs6"
      },
      "execution_count": null,
      "outputs": []
    },
    {
      "cell_type": "code",
      "source": [
        "# let's say we have a training loop\n",
        "for epoch in range(1):\n",
        "  model_output = (weights*3).sum() # this is a dummy operation\n",
        "  \n",
        "  model_output.backward()\n",
        "\n",
        "  print(weights.grad)"
      ],
      "metadata": {
        "colab": {
          "base_uri": "https://localhost:8080/"
        },
        "id": "BuA7GyMreDKe",
        "outputId": "c8b3deef-d890-49ea-b75d-951c6cceddb9"
      },
      "execution_count": null,
      "outputs": [
        {
          "output_type": "stream",
          "name": "stdout",
          "text": [
            "tensor([3., 3., 3., 3.])\n"
          ]
        }
      ]
    },
    {
      "cell_type": "code",
      "source": [
        "weights = torch.ones(4, requires_grad = True)"
      ],
      "metadata": {
        "id": "tlHOlrxDepGc"
      },
      "execution_count": null,
      "outputs": []
    },
    {
      "cell_type": "code",
      "source": [
        "# let's say we have a training loop\n",
        "for epoch in range(2):\n",
        "  model_output = (weights*3).sum() # this is a dummy operation\n",
        "  \n",
        "  model_output.backward()\n",
        "\n",
        "  print(weights.grad)"
      ],
      "metadata": {
        "colab": {
          "base_uri": "https://localhost:8080/"
        },
        "id": "Y29KEvIkeY5Q",
        "outputId": "88b54b06-d657-43a1-9f5a-fa4c7c3d581d"
      },
      "execution_count": null,
      "outputs": [
        {
          "output_type": "stream",
          "name": "stdout",
          "text": [
            "tensor([3., 3., 3., 3.])\n",
            "tensor([6., 6., 6., 6.])\n"
          ]
        }
      ]
    },
    {
      "cell_type": "code",
      "source": [
        "weights = torch.ones(4, requires_grad = True)"
      ],
      "metadata": {
        "id": "zQaa0WA9eqo8"
      },
      "execution_count": null,
      "outputs": []
    },
    {
      "cell_type": "code",
      "source": [
        "# let's say we have a training loop\n",
        "for epoch in range(3):\n",
        "  model_output = (weights*3).sum() # this is a dummy operation\n",
        "  \n",
        "  model_output.backward()\n",
        "\n",
        "  print(weights.grad)"
      ],
      "metadata": {
        "colab": {
          "base_uri": "https://localhost:8080/"
        },
        "id": "bBM-rqoBedAX",
        "outputId": "8429ff3b-4113-4b29-ea23-8f5d5d7581dc"
      },
      "execution_count": null,
      "outputs": [
        {
          "output_type": "stream",
          "name": "stdout",
          "text": [
            "tensor([3., 3., 3., 3.])\n",
            "tensor([6., 6., 6., 6.])\n",
            "tensor([9., 9., 9., 9.])\n"
          ]
        }
      ]
    },
    {
      "cell_type": "markdown",
      "source": [
        "All the values are summed up and our gradients are incorrect. So, before we do the next iteration and optimization step, we must empty the gradients"
      ],
      "metadata": {
        "id": "oCjLtfJrk5Cc"
      }
    },
    {
      "cell_type": "code",
      "source": [
        "weights = torch.ones(4, requires_grad = True)"
      ],
      "metadata": {
        "id": "K-S8y2eEejVN"
      },
      "execution_count": null,
      "outputs": []
    },
    {
      "cell_type": "code",
      "source": [
        "# let's say we have a training loop\n",
        "for epoch in range(3):\n",
        "  model_output = (weights*3).sum() # this is a dummy operation\n",
        "  \n",
        "  model_output.backward()\n",
        "\n",
        "  print(weights.grad)\n",
        "\n",
        "  weights.grad.zero_()"
      ],
      "metadata": {
        "id": "Sc7nK_kXetpL",
        "colab": {
          "base_uri": "https://localhost:8080/"
        },
        "outputId": "6692bb00-ac2c-4bdf-ba82-7d442b97f5b1"
      },
      "execution_count": null,
      "outputs": [
        {
          "output_type": "stream",
          "name": "stdout",
          "text": [
            "tensor([3., 3., 3., 3.])\n",
            "tensor([3., 3., 3., 3.])\n",
            "tensor([3., 3., 3., 3.])\n"
          ]
        }
      ]
    },
    {
      "cell_type": "markdown",
      "source": [
        "We will work with pytorch optimizer"
      ],
      "metadata": {
        "id": "RXX6-f1BlRJH"
      }
    },
    {
      "cell_type": "code",
      "source": [
        "weights = torch.ones(4, requires_grad = True)"
      ],
      "metadata": {
        "id": "qFCDJddElL3_"
      },
      "execution_count": null,
      "outputs": []
    }
  ]
}